{
 "cells": [
  {
   "cell_type": "markdown",
   "id": "71d83672",
   "metadata": {},
   "source": [
    "# MLflow – Lưu trữ & Truy xuất Experiment"
   ]
  },
  {
   "cell_type": "markdown",
   "id": "8635a627",
   "metadata": {},
   "source": [
    "- MLflow tracking server lưu toàn bộ lịch sử chạy ở /mlruns folder\n",
    "- Biết được cấu trúc thư mục lưu trữ của MLflow?\n",
    "    - Tên experiment\n",
    "    - Các lần \"run\"\n",
    "    - Metrics \n",
    "    - Parameters \n",
    "    - Artifacts \n",
    "    - meta.yaml lưu metadata của experiment\n",
    "- Mỗi khi chạy một run, MLflow:\n",
    "    - Tạo thư mục mới với ID duy nhất\n",
    "    - Ghi các metric được log qua mlflow.log_metric()\n",
    "    - Ghi params nếu có mlflow.log_param()\n",
    "    - Ghi artifacts nếu có mlflow.log_artifact()\n",
    "- Xác định cách truy xuất dữ liệu trong MLflow UI\n",
    "    - đọc trực tiếp từ thư mục mlruns/\n",
    "    - Khi bạn chạy mlflow ui, MLflow sẽ lấy dữ liệu từ đó và render lên giao diện web.\n",
    "    - Tất cả các metrics bạn log sẽ hiển thị ở đây.\n",
    "- Khi chạy tracking server trên cloud (S3, GCS, Azure...), bạn cần cấu hình lại:\n",
    "    - --backend-store-uri: nơi lưu dữ liệu (ví dụ: database, S3...)\n",
    "    - --default-artifact-root: nơi lưu artifact (S3 bucket, GCS...)\n",
    "    - Ví dụ : mlflow ui --backend-store-uri sqlite:///mlflow.db\n"
   ]
  },
  {
   "cell_type": "code",
   "execution_count": null,
   "id": "9c9fac62",
   "metadata": {},
   "outputs": [],
   "source": []
  },
  {
   "cell_type": "code",
   "execution_count": 7,
   "id": "2a2c372c",
   "metadata": {},
   "outputs": [],
   "source": [
    "import mlflow\n",
    "import os"
   ]
  },
  {
   "cell_type": "markdown",
   "id": "c54c9826",
   "metadata": {},
   "source": [
    "Tracking Server là nơi lưu trữ, ghi nhận và quản lý các thông tin liên quan đến quá trình huấn luyện mô hình, như:\n",
    " - Thông số hyperparameters\n",
    " - Kết quả đánh giá (accuracy, loss, ...)\n",
    " - Tệp mô hình đã huấn luyện\n",
    " - Thời gian chạy, metadata, v.v."
   ]
  },
  {
   "cell_type": "code",
   "execution_count": null,
   "id": "2ad9e414",
   "metadata": {},
   "outputs": [],
   "source": [
    "# Cấu hình địa chỉ Tracking Server\n",
    "\"\"\" MLflow tracking URI là trung tâm điều phối\n",
    "    MLflow UI lấy dữ liệu từ URI được chỉ định (mặc định là http://127.0.0.1:5000) \n",
    "    để hiển thị các experiment, metrics, params, artifacts.\n",
    "\"\"\"\n",
    "mlflow.set_tracking_uri(\"http://127.0.0.1:5000\")"
   ]
  },
  {
   "cell_type": "markdown",
   "id": "98eb70e6",
   "metadata": {},
   "source": [
    "## Thí nghiệm 1"
   ]
  },
  {
   "cell_type": "code",
   "execution_count": null,
   "id": "5bc654e0",
   "metadata": {},
   "outputs": [
    {
     "name": "stderr",
     "output_type": "stream",
     "text": [
      "2025/06/21 07:02:54 INFO mlflow.tracking.fluent: Experiment with name 'check localhost connection' does not exist. Creating a new experiment.\n"
     ]
    },
    {
     "data": {
      "text/plain": [
       "<Experiment: artifact_location='mlflow-artifacts:/699676149943717778', creation_time=1750489374455, experiment_id='699676149943717778', last_update_time=1750489374455, lifecycle_stage='active', name='check localhost connection', tags={}>"
      ]
     },
     "execution_count": 3,
     "metadata": {},
     "output_type": "execute_result"
    }
   ],
   "source": [
    "# Tạo/Chọn một thí nghiệm (experiment)\n",
    "mlflow.set_experiment(\"ex1: check localhost connection\")"
   ]
  },
  {
   "cell_type": "code",
   "execution_count": 4,
   "id": "0f350542",
   "metadata": {},
   "outputs": [
    {
     "name": "stdout",
     "output_type": "stream",
     "text": [
      "🏃 View run intelligent-boar-81 at: http://127.0.0.1:5000/#/experiments/699676149943717778/runs/b13bc6aa81ea424c8f7c3969fef7514a\n",
      "🧪 View experiment at: http://127.0.0.1:5000/#/experiments/699676149943717778\n"
     ]
    }
   ],
   "source": [
    "# Thực hiện log thử nghiệm\n",
    "with mlflow.start_run():\n",
    "    mlflow.log_metric(\"test\", 1)\n",
    "    mlflow.log_metric(\"krish\", 2)"
   ]
  },
  {
   "cell_type": "markdown",
   "id": "5711d222",
   "metadata": {},
   "source": [
    "## Thí nghiệm 2"
   ]
  },
  {
   "cell_type": "code",
   "execution_count": 8,
   "id": "d52883d3",
   "metadata": {},
   "outputs": [
    {
     "name": "stdout",
     "output_type": "stream",
     "text": [
      "🏃 View run enchanting-swan-950 at: http://127.0.0.1:5000/#/experiments/954305207716940056/runs/ddeb62cd6cc544faaba3eccab58bd8ba\n",
      "🧪 View experiment at: http://127.0.0.1:5000/#/experiments/954305207716940056\n"
     ]
    }
   ],
   "source": [
    "mlflow.set_experiment(\"ex2 : log param, metric, artifact\")\n",
    "\n",
    "# Bước 2: Khởi tạo run và ghi dữ liệu\n",
    "with mlflow.start_run():\n",
    "\n",
    "    # Log params\n",
    "    mlflow.log_param(\"learning_rate\", 0.01)\n",
    "    mlflow.log_param(\"optimizer\", \"adam\")\n",
    "\n",
    "    # Log metrics\n",
    "    mlflow.log_metric(\"accuracy\", 0.85)\n",
    "    mlflow.log_metric(\"loss\", 0.35)\n",
    "\n",
    "    # Log artifact (ví dụ file output.txt)\n",
    "    output_dir = \"outputs\"\n",
    "    os.makedirs(output_dir, exist_ok=True)\n",
    "\n",
    "    with open(f\"{output_dir}/output.txt\", \"w\") as f:\n",
    "        f.write(\"This is an artifact file\")\n",
    "\n",
    "    mlflow.log_artifact(f\"{output_dir}/output.txt\")"
   ]
  }
 ],
 "metadata": {
  "kernelspec": {
   "display_name": "Python 3",
   "language": "python",
   "name": "python3"
  },
  "language_info": {
   "codemirror_mode": {
    "name": "ipython",
    "version": 3
   },
   "file_extension": ".py",
   "mimetype": "text/x-python",
   "name": "python",
   "nbconvert_exporter": "python",
   "pygments_lexer": "ipython3",
   "version": "3.9.23"
  }
 },
 "nbformat": 4,
 "nbformat_minor": 5
}
