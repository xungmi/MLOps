{
 "cells": [
  {
   "cell_type": "markdown",
   "id": "75d74f50",
   "metadata": {},
   "source": [
    "# 1 số khái niệm\n",
    "- Artifact : bất kỳ tệp, thành phần hoặc kết quả trung gian được sinh ra trong quá trình phát triển phần mềm hoặc mô hình machine learning. Ví dụ: file build, package, docker images, ..."
   ]
  },
  {
   "cell_type": "markdown",
   "id": "970b5449",
   "metadata": {},
   "source": [
    "# Định nghĩa\n",
    "- MLOps là phương pháp kết hợp giữa machine learning với các \n",
    "nguyên tắc DevOps\n",
    "- nhằm tự động hóa và tối ưu toàn bộ vòng đời của mô hình ML\n",
    "- Mục tiêu chính là giúp quy trình ML trở nên trơn tru, nhanh chóng và hiệu quả hơn\n",
    "# Lợi ích\n",
    "- Scalability : giúp các mô hình machine learning có thể mở rộng linh hoạt trên nhiều môi trường khác nhau : local, cloud, edge device\n",
    "- Reproducibility (Khả năng tái lập) : đảm bảo các mô hình và pipeline dữ liệu có thể được tái lập chính xác như khi phát triển => tính  nhất quán giữa dev, test, product\n",
    "- Automation : tự động hóa nhiều công việc lặp đi lặp lại như retraining, testing, deployment, monitoring\n",
    "- Model Lifecycle Management\n",
    "- Collaboration\n",
    "# Key concept\n",
    "- Versioning :\n",
    "    - Data Versioning : theo dõi version của training data, test data\n",
    "    - Model Versioning\n",
    "    - Code versioning: ví dụ Git\n",
    "- Automation \n",
    "    - Auto training với dữ liệu mới\n",
    "    - CI/CD\n",
    "- Monitoring\n",
    "    - Giám sát hiệu suất mô hình\n",
    "- Concept Drift Detection (Phát hiện sai lệch dữ liệu)\n",
    "    - Theo dõi khi mô hình bắt đầu hoạt động kém đi do sự thay đổi trong phân bố dữ liệu theo thời gian.\n",
    "- Logging:\n",
    "    - Thu thập các log liên quan đến việc suy luận mô hình, hiệu suất hệ thống và các lỗi, phục vụ mục đích gỡ lỗi và kiểm toán.\n",
    "# MLOps và DevOps\n",
    "- Giống:\n",
    "    - Automation \n",
    "    - Collaboration : dev, test, product\n",
    "    - CI/CD Pipelines\n",
    "- Khác:\n",
    "    - Độ phức tạp của artifacts :\n",
    "        - DevOps chủ yếu quản lý mã nguồn phần mềm.\n",
    "        - MLOps phải quản lý thêm dữ liệu huấn luyện, các mô hình machine learning và cả mã nguồn\n",
    "    - Yếu tố thử nghiệm:\n",
    "        - MLOps nhấn mạnh vào thử nghiệm: điều chỉnh siêu tham số (hyperparameters), lựa chọn kiến trúc mô hình, v.v.\n",
    "        - DevOps ít chú trọng đến thử nghiệm so với MLOps vì sản phẩm phần mềm thường ổn định hơn khi triển khai.\n",
    "    - Nhu cầu giám sát:\n",
    "        - MLOps cần giám sát hiệu suất mô hình và phát hiện sai lệch dữ liệu (concept drift).\n",
    "    - ..."
   ]
  },
  {
   "cell_type": "markdown",
   "id": "f2bb808f",
   "metadata": {},
   "source": [
    "# Bài thực hành\n",
    "- Xây dựng một cấu trúc dự án MLOps cơ bản, bao gồm các thành phần: versioning, automation , monitoring \n",
    "-  Toàn bộ bài thực hành gồm 4 bước:\n",
    "    - Thiết lập version control với Git\n",
    "    - Cấu hình Docker để container hóa\n",
    "    - Thực hiện tracking thí nghiệm cơ bản với MLflow\n",
    "    - Thiết lập hệ thống monitoring cơ bản"
   ]
  },
  {
   "cell_type": "markdown",
   "id": "94f8e787",
   "metadata": {},
   "source": []
  },
  {
   "cell_type": "markdown",
   "id": "18c239ad",
   "metadata": {},
   "source": []
  }
 ],
 "metadata": {
  "language_info": {
   "name": "python"
  }
 },
 "nbformat": 4,
 "nbformat_minor": 5
}
